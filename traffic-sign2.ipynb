{
 "cells": [
  {
   "cell_type": "markdown",
   "metadata": {},
   "source": [
    "# Super tutuł"
   ]
  },
  {
   "cell_type": "markdown",
   "metadata": {},
   "source": [
    "Import wymaganych bilbiotek, sprawdzenie GPU"
   ]
  },
  {
   "cell_type": "code",
   "execution_count": 175,
   "metadata": {},
   "outputs": [
    {
     "name": "stdout",
     "output_type": "stream",
     "text": [
      "Num GPUs Available:  1\n"
     ]
    }
   ],
   "source": [
    "import tensorflow as tf\n",
    "from tensorflow import keras\n",
    "from tensorflow.keras.models import Sequential\n",
    "from tensorflow.keras.layers import Activation, Dense, BatchNormalization, Conv2D, MaxPool2D, Flatten, Dropout\n",
    "from tensorflow.keras.optimizers import Adam\n",
    "from tensorflow.keras.metrics import categorical_crossentropy\n",
    "from tensorflow.keras.preprocessing.image import ImageDataGenerator\n",
    "import os\n",
    "import matplotlib.pyplot as plt\n",
    "import shutil, random\n",
    "from sklearn.metrics import confusion_matrix\n",
    "import numpy as np\n",
    "import itertools\n",
    "\n",
    "\n",
    "print(\"Num GPUs Available: \", len(tf.config.list_physical_devices('GPU')))"
   ]
  },
  {
   "cell_type": "markdown",
   "metadata": {},
   "source": [
    "Globalne zmienne"
   ]
  },
  {
   "cell_type": "code",
   "execution_count": 176,
   "metadata": {},
   "outputs": [],
   "source": [
    "# Ścieżka z folderem z danymi\n",
    "data_path = os.path.join(os.getcwd(), 'data')\n",
    "train_path = os.path.join(data_path, 'train')\n",
    "test_path = os.path.join(data_path, 'test')\n",
    "valid_path = os.path.join(data_path, 'valid')\n",
    "\n",
    "# rozmiar docelowy zdjęć\n",
    "image_size = 64\n",
    "# jakies grupy TODO\n",
    "batch_size = 32\n",
    "\n",
    "#klasy takie jak nazwy folderów\n",
    "classes = os.listdir(train_path)\n",
    "\n",
    "#ile % zdjęć ma byc przeniesionych do folderu zawierającego zdj walidujące\n",
    "validation_split_dataset = 0.1\n",
    "\n",
    "# Liczba epok\n",
    "epochs = 25"
   ]
  },
  {
   "cell_type": "markdown",
   "metadata": {},
   "source": [
    "Wybranie obrazów walidujących.\n",
    "\n",
    "Rozwiązanie problemu:\n",
    "```python\n",
    "ValueError: `validation_split` is only supported for Tensors or NumPy arrays, found following types in the input: [<class 'tensorflow.python.keras.preprocessing.image.DirectoryIterator'>]\n",
    "```"
   ]
  },
  {
   "cell_type": "code",
   "execution_count": 177,
   "metadata": {},
   "outputs": [],
   "source": [
    "if os.path.isdir(valid_path) is False:\n",
    "    os.makedirs(valid_path)\n",
    "    for class_dir in os.listdir(train_path):\n",
    "        print('=', end='')\n",
    "        src_dir = os.path.join(train_path, class_dir)\n",
    "        dest_dir = os.path.join(valid_path, class_dir)\n",
    "        os.makedirs(dest_dir)        \n",
    "        elementy_w_folderze = os.listdir(src_dir)\n",
    "        ile_elementow = len(elementy_w_folderze) \n",
    "        for i in random.sample(range(0, ile_elementow), int(ile_elementow*validation_split_dataset)):\n",
    "            shutil.move(os.path.join(src_dir, elementy_w_folderze[i]) , dest_dir)\n",
    "        \n",
    "            "
   ]
  },
  {
   "cell_type": "markdown",
   "metadata": {},
   "source": [
    "Wczytywanie obrazów"
   ]
  },
  {
   "cell_type": "code",
   "execution_count": 178,
   "metadata": {},
   "outputs": [
    {
     "name": "stdout",
     "output_type": "stream",
     "text": [
      "Found 15116 images belonging to 92 classes.\n",
      "Found 1630 images belonging to 92 classes.\n",
      "Found 4298 images belonging to 92 classes.\n"
     ]
    }
   ],
   "source": [
    "train_batches = ImageDataGenerator() \\\n",
    "    .flow_from_directory(directory=train_path, target_size=(image_size, image_size), classes=classes, batch_size=batch_size)\n",
    "    \n",
    "valid_batches = ImageDataGenerator() \\\n",
    "    .flow_from_directory(directory=valid_path, target_size=(image_size, image_size), classes=classes, batch_size=batch_size)\n",
    "    \n",
    "test_batches = ImageDataGenerator() \\\n",
    "    .flow_from_directory(directory=test_path, target_size=(image_size, image_size), classes=classes, batch_size=batch_size, shuffle=False)"
   ]
  },
  {
   "cell_type": "markdown",
   "metadata": {},
   "source": [
    "Nwm co to rb"
   ]
  },
  {
   "cell_type": "code",
   "execution_count": 179,
   "metadata": {},
   "outputs": [],
   "source": [
    "imgs, labels = next(train_batches)"
   ]
  },
  {
   "cell_type": "markdown",
   "metadata": {},
   "source": [
    "Pokaż zdjęcia"
   ]
  },
  {
   "cell_type": "code",
   "execution_count": 180,
   "metadata": {},
   "outputs": [
    {
     "name": "stderr",
     "output_type": "stream",
     "text": [
      "Clipping input data to the valid range for imshow with RGB data ([0..1] for floats or [0..255] for integers).\n",
      "Clipping input data to the valid range for imshow with RGB data ([0..1] for floats or [0..255] for integers).\n",
      "Clipping input data to the valid range for imshow with RGB data ([0..1] for floats or [0..255] for integers).\n",
      "Clipping input data to the valid range for imshow with RGB data ([0..1] for floats or [0..255] for integers).\n",
      "Clipping input data to the valid range for imshow with RGB data ([0..1] for floats or [0..255] for integers).\n",
      "Clipping input data to the valid range for imshow with RGB data ([0..1] for floats or [0..255] for integers).\n",
      "Clipping input data to the valid range for imshow with RGB data ([0..1] for floats or [0..255] for integers).\n",
      "Clipping input data to the valid range for imshow with RGB data ([0..1] for floats or [0..255] for integers).\n",
      "Clipping input data to the valid range for imshow with RGB data ([0..1] for floats or [0..255] for integers).\n",
      "Clipping input data to the valid range for imshow with RGB data ([0..1] for floats or [0..255] for integers).\n"
     ]
    },
    {
     "data": {
      "image/png": "[encoded data removed]",
      "text/plain": [
       "<Figure size 1440x1440 with 10 Axes>"
      ]
     },
     "metadata": {
      "needs_background": "light"
     },
     "output_type": "display_data"
    },
    {
     "name": "stdout",
     "output_type": "stream",
     "text": [
      "[[0. 0. 0. ... 0. 0. 0.]\n",
      " [0. 0. 0. ... 0. 0. 0.]\n",
      " [0. 0. 0. ... 0. 0. 0.]\n",
      " ...\n",
      " [0. 0. 0. ... 1. 0. 0.]\n",
      " [0. 0. 0. ... 0. 0. 0.]\n",
      " [0. 0. 0. ... 0. 0. 0.]]\n"
     ]
    }
   ],
   "source": [
    "def plotImages(images_arr):\n",
    "    fig, axes = plt.subplots(1, 10, figsize=(20, 20))\n",
    "    axes = axes.flatten()\n",
    "    for img, ax in zip(images_arr, axes):\n",
    "        ax.imshow(img)\n",
    "        ax.axis('off')\n",
    "    plt.tight_layout()\n",
    "    plt.show()\n",
    "    \n",
    "plotImages(imgs)\n",
    "print(labels)\n",
    "    "
   ]
  },
  {
   "cell_type": "markdown",
   "metadata": {},
   "source": [
    "Budowanie modelu"
   ]
  },
  {
   "cell_type": "code",
   "execution_count": 181,
   "metadata": {},
   "outputs": [
    {
     "name": "stdout",
     "output_type": "stream",
     "text": [
      "Model: \"sequential_12\"\n",
      "_________________________________________________________________\n",
      "Layer (type)                 Output Shape              Param #   \n",
      "=================================================================\n",
      "conv2d_48 (Conv2D)           (None, 60, 60, 32)        2432      \n",
      "_________________________________________________________________\n",
      "conv2d_49 (Conv2D)           (None, 56, 56, 32)        25632     \n",
      "_________________________________________________________________\n",
      "max_pooling2d_24 (MaxPooling (None, 28, 28, 32)        0         \n",
      "_________________________________________________________________\n",
      "dropout_36 (Dropout)         (None, 28, 28, 32)        0         \n",
      "_________________________________________________________________\n",
      "conv2d_50 (Conv2D)           (None, 26, 26, 64)        18496     \n",
      "_________________________________________________________________\n",
      "conv2d_51 (Conv2D)           (None, 24, 24, 64)        36928     \n",
      "_________________________________________________________________\n",
      "max_pooling2d_25 (MaxPooling (None, 12, 12, 64)        0         \n",
      "_________________________________________________________________\n",
      "dropout_37 (Dropout)         (None, 12, 12, 64)        0         \n",
      "_________________________________________________________________\n",
      "flatten_12 (Flatten)         (None, 9216)              0         \n",
      "_________________________________________________________________\n",
      "dense_24 (Dense)             (None, 256)               2359552   \n",
      "_________________________________________________________________\n",
      "dropout_38 (Dropout)         (None, 256)               0         \n",
      "_________________________________________________________________\n",
      "dense_25 (Dense)             (None, 92)                23644     \n",
      "=================================================================\n",
      "Total params: 2,466,684\n",
      "Trainable params: 2,466,684\n",
      "Non-trainable params: 0\n",
      "_________________________________________________________________\n"
     ]
    }
   ],
   "source": [
    "#Building the model\n",
    "model = Sequential() # sequelntial otrzymuje dane kiedy wywołujemy funkcję celu na niej\n",
    "\n",
    "model.add(Conv2D(filters=32, kernel_size=(5,5), activation='relu', input_shape=(image_size, image_size, 3)))\n",
    "model.add(Conv2D(filters=32, kernel_size=(5,5), activation='relu'))\n",
    "model.add(MaxPool2D(pool_size=(2, 2)))\n",
    "model.add(Dropout(rate=0.25))\n",
    "model.add(Conv2D(filters=64, kernel_size=(3, 3), activation='relu'))\n",
    "model.add(Conv2D(filters=64, kernel_size=(3, 3), activation='relu'))\n",
    "model.add(MaxPool2D(pool_size=(2, 2)))\n",
    "model.add(Dropout(rate=0.25))\n",
    "model.add(Flatten())\n",
    "model.add(Dense(256, activation='relu'))\n",
    "model.add(Dropout(rate=0.5))\n",
    "model.add(Dense(units=len(classes), activation='softmax'))\n",
    "#Compilation of the model\n",
    "model.compile(loss='categorical_crossentropy', optimizer='adam', metrics=['accuracy'])\n",
    "\n",
    "model.summary()"
   ]
  },
  {
   "cell_type": "markdown",
   "metadata": {},
   "source": [
    "Trenowanie"
   ]
  },
  {
   "cell_type": "code",
   "execution_count": 182,
   "metadata": {},
   "outputs": [
    {
     "name": "stdout",
     "output_type": "stream",
     "text": [
      "Epoch 1/25\n",
      "473/473 [==============================] - 23s 47ms/step - loss: 2.1478 - accuracy: 0.6216 - val_loss: 0.4397 - val_accuracy: 0.9129\n",
      "Epoch 2/25\n",
      "473/473 [==============================] - 25s 53ms/step - loss: 0.5306 - accuracy: 0.8687 - val_loss: 0.2002 - val_accuracy: 0.9552\n",
      "Epoch 3/25\n",
      "473/473 [==============================] - 27s 57ms/step - loss: 0.3655 - accuracy: 0.9099 - val_loss: 0.2029 - val_accuracy: 0.9515\n",
      "Epoch 4/25\n",
      "473/473 [==============================] - 25s 53ms/step - loss: 0.2651 - accuracy: 0.9326 - val_loss: 0.1913 - val_accuracy: 0.9571\n",
      "Epoch 5/25\n",
      "473/473 [==============================] - 27s 56ms/step - loss: 0.2209 - accuracy: 0.9452 - val_loss: 0.1361 - val_accuracy: 0.9718\n",
      "Epoch 6/25\n",
      "473/473 [==============================] - 26s 56ms/step - loss: 0.2025 - accuracy: 0.9486 - val_loss: 0.1422 - val_accuracy: 0.9736\n",
      "Epoch 7/25\n",
      "473/473 [==============================] - 26s 55ms/step - loss: 0.1684 - accuracy: 0.9569 - val_loss: 0.1797 - val_accuracy: 0.9571\n",
      "Epoch 8/25\n",
      "473/473 [==============================] - 28s 59ms/step - loss: 0.1736 - accuracy: 0.9557 - val_loss: 0.1121 - val_accuracy: 0.9755\n",
      "Epoch 9/25\n",
      "473/473 [==============================] - 27s 56ms/step - loss: 0.1577 - accuracy: 0.9590 - val_loss: 0.1073 - val_accuracy: 0.9828\n",
      "Epoch 10/25\n",
      "473/473 [==============================] - 28s 60ms/step - loss: 0.1663 - accuracy: 0.9567 - val_loss: 0.1297 - val_accuracy: 0.9748\n",
      "Epoch 11/25\n",
      "473/473 [==============================] - 26s 56ms/step - loss: 0.1369 - accuracy: 0.9631 - val_loss: 0.0818 - val_accuracy: 0.9840\n",
      "Epoch 12/25\n",
      "473/473 [==============================] - 29s 62ms/step - loss: 0.1030 - accuracy: 0.9725 - val_loss: 0.1176 - val_accuracy: 0.9810\n",
      "Epoch 13/25\n",
      "473/473 [==============================] - 27s 57ms/step - loss: 0.1247 - accuracy: 0.9686 - val_loss: 0.0992 - val_accuracy: 0.9810\n",
      "Epoch 14/25\n",
      "473/473 [==============================] - 26s 56ms/step - loss: 0.1348 - accuracy: 0.9671 - val_loss: 0.0714 - val_accuracy: 0.9853\n",
      "Epoch 15/25\n",
      "473/473 [==============================] - 29s 61ms/step - loss: 0.1407 - accuracy: 0.9647 - val_loss: 0.1013 - val_accuracy: 0.9822\n",
      "Epoch 16/25\n",
      "473/473 [==============================] - 31s 65ms/step - loss: 0.1058 - accuracy: 0.9737 - val_loss: 0.0811 - val_accuracy: 0.9871\n",
      "Epoch 17/25\n",
      "473/473 [==============================] - 29s 61ms/step - loss: 0.1021 - accuracy: 0.9734 - val_loss: 0.0881 - val_accuracy: 0.9853\n",
      "Epoch 18/25\n",
      "473/473 [==============================] - 28s 58ms/step - loss: 0.0942 - accuracy: 0.9737 - val_loss: 0.0937 - val_accuracy: 0.9828\n",
      "Epoch 19/25\n",
      "473/473 [==============================] - 29s 62ms/step - loss: 0.1154 - accuracy: 0.9708 - val_loss: 0.0789 - val_accuracy: 0.9871\n",
      "Epoch 20/25\n",
      "473/473 [==============================] - 26s 56ms/step - loss: 0.0971 - accuracy: 0.9744 - val_loss: 0.1051 - val_accuracy: 0.9834\n",
      "Epoch 21/25\n",
      "473/473 [==============================] - 28s 60ms/step - loss: 0.1248 - accuracy: 0.9697 - val_loss: 0.1123 - val_accuracy: 0.9798\n",
      "Epoch 22/25\n",
      "473/473 [==============================] - 27s 56ms/step - loss: 0.1065 - accuracy: 0.9726 - val_loss: 0.1032 - val_accuracy: 0.9822\n",
      "Epoch 23/25\n",
      "473/473 [==============================] - 30s 63ms/step - loss: 0.1252 - accuracy: 0.9706 - val_loss: 0.0856 - val_accuracy: 0.9871\n",
      "Epoch 24/25\n",
      "473/473 [==============================] - 27s 57ms/step - loss: 0.1135 - accuracy: 0.9733 - val_loss: 0.0944 - val_accuracy: 0.9834\n",
      "Epoch 25/25\n",
      "473/473 [==============================] - 27s 57ms/step - loss: 0.0700 - accuracy: 0.9810 - val_loss: 0.0843 - val_accuracy: 0.9877\n"
     ]
    }
   ],
   "source": [
    "anc = model.fit(x=train_batches, batch_size=batch_size, epochs=epochs, validation_data=valid_batches)"
   ]
  },
  {
   "cell_type": "markdown",
   "metadata": {},
   "source": [
    "Zapis modelu do pliku"
   ]
  },
  {
   "cell_type": "code",
   "execution_count": 183,
   "metadata": {},
   "outputs": [],
   "source": [
    "model.save('traffic_classifier.h5')"
   ]
  },
  {
   "cell_type": "markdown",
   "metadata": {},
   "source": [
    "Statystyki wytrenowanego modelu"
   ]
  },
  {
   "cell_type": "code",
   "execution_count": 184,
   "metadata": {},
   "outputs": [
    {
     "data": {
      "image/png": "[encoded data removed]",
      "text/plain": [
       "<Figure size 432x288 with 1 Axes>"
      ]
     },
     "metadata": {
      "needs_background": "light"
     },
     "output_type": "display_data"
    },
    {
     "data": {
      "image/png": "[encoded data removed]",
      "text/plain": [
       "<Figure size 432x288 with 1 Axes>"
      ]
     },
     "metadata": {
      "needs_background": "light"
     },
     "output_type": "display_data"
    }
   ],
   "source": [
    "plt.figure(0)\n",
    "plt.plot(anc.history['accuracy'], label='training accuracy')\n",
    "plt.plot(anc.history['val_accuracy'], label='val accuracy')\n",
    "plt.title('Accuracy')\n",
    "plt.xlabel('epochs')\n",
    "plt.ylabel('accuracy')\n",
    "plt.legend()\n",
    "plt.show()\n",
    "plt.figure(1)\n",
    "plt.plot(anc.history['loss'], label='training loss')\n",
    "plt.plot(anc.history['val_loss'], label='val loss')\n",
    "plt.title('Loss')\n",
    "plt.xlabel('epochs')\n",
    "plt.ylabel('loss')\n",
    "plt.legend()\n",
    "plt.show()"
   ]
  },
  {
   "cell_type": "markdown",
   "metadata": {},
   "source": [
    "Predykcja"
   ]
  },
  {
   "cell_type": "code",
   "execution_count": 185,
   "metadata": {},
   "outputs": [
    {
     "name": "stdout",
     "output_type": "stream",
     "text": [
      "135/135 [==============================] - 5s 34ms/step - loss: 0.2393 - accuracy: 0.9567\n",
      "Test loss: 0.23932944238185883\n",
      "Test accuracy: 0.9567240476608276\n"
     ]
    }
   ],
   "source": [
    "score = model.evaluate(test_batches, verbose = 1) \n",
    "\n",
    "print('Test loss:', score[0]) \n",
    "print('Test accuracy:', score[1])"
   ]
  },
  {
   "cell_type": "code",
   "execution_count": 186,
   "metadata": {},
   "outputs": [
    {
     "name": "stderr",
     "output_type": "stream",
     "text": [
      "Clipping input data to the valid range for imshow with RGB data ([0..1] for floats or [0..255] for integers).\n",
      "Clipping input data to the valid range for imshow with RGB data ([0..1] for floats or [0..255] for integers).\n",
      "Clipping input data to the valid range for imshow with RGB data ([0..1] for floats or [0..255] for integers).\n",
      "Clipping input data to the valid range for imshow with RGB data ([0..1] for floats or [0..255] for integers).\n",
      "Clipping input data to the valid range for imshow with RGB data ([0..1] for floats or [0..255] for integers).\n",
      "Clipping input data to the valid range for imshow with RGB data ([0..1] for floats or [0..255] for integers).\n",
      "Clipping input data to the valid range for imshow with RGB data ([0..1] for floats or [0..255] for integers).\n",
      "Clipping input data to the valid range for imshow with RGB data ([0..1] for floats or [0..255] for integers).\n",
      "Clipping input data to the valid range for imshow with RGB data ([0..1] for floats or [0..255] for integers).\n",
      "Clipping input data to the valid range for imshow with RGB data ([0..1] for floats or [0..255] for integers).\n"
     ]
    },
    {
     "data": {
      "image/png": "[encoded data removed]",
      "text/plain": [
       "<Figure size 1440x1440 with 10 Axes>"
      ]
     },
     "metadata": {
      "needs_background": "light"
     },
     "output_type": "display_data"
    },
    {
     "data": {
      "text/plain": [
       "array([ 0,  0,  0, ..., 91, 91, 91])"
      ]
     },
     "execution_count": 186,
     "metadata": {},
     "output_type": "execute_result"
    }
   ],
   "source": [
    "test_imgs, test_labels = next(test_batches)\n",
    "plotImages(test_imgs)\n",
    "#print(test_labels)\n",
    "test_batches.classes"
   ]
  },
  {
   "cell_type": "markdown",
   "metadata": {},
   "source": [
    "Macierz pokazująca na osiach dane tesujące i predykcję\n",
    "\n",
    "Przekątna macierzy wskazuje dopasowanie tj predykcja poprawnie przewiduje"
   ]
  },
  {
   "cell_type": "code",
   "execution_count": 187,
   "metadata": {},
   "outputs": [
    {
     "data": {
      "text/plain": [
       "<matplotlib.image.AxesImage at 0x1aeb2683760>"
      ]
     },
     "execution_count": 187,
     "metadata": {},
     "output_type": "execute_result"
    },
    {
     "data": {
      "image/png": "[encoded data removed]",
      "text/plain": [
       "<Figure size 432x288 with 1 Axes>"
      ]
     },
     "metadata": {
      "needs_background": "light"
     },
     "output_type": "display_data"
    }
   ],
   "source": [
    "predictions = model.predict(x=test_batches)\n",
    "np.round(predictions)\n",
    "cm = confusion_matrix(y_true=test_batches.classes, y_pred=predictions.argmax(axis=-1))\n",
    "plt.imshow(cm, cmap='Greys',  interpolation='nearest')\n"
   ]
  },
  {
   "cell_type": "code",
   "execution_count": 188,
   "metadata": {},
   "outputs": [],
   "source": [
    "def plot_confusion_matrix(cm, classes, normalize = False, title='Confusion matrix', cmap = plt.cm.Blues):\n",
    "    classes = range(len(classes))\n",
    "    if normalize:\n",
    "        cm = cm.astype('float') / cm.sum(axis=1)[:, np.newaxis]\n",
    "        cm_title = \"Normalized confusion matrix\"\n",
    "    else:\n",
    "        cm_title = title\n",
    "    print(cm)\n",
    "    \n",
    "    plt.imshow(cm, interpolation='nearest', cmap=cmap)\n",
    "    plt.title(cm_title)\n",
    "    plt.colorbar()\n",
    "    tick_marks = np.arange(len(classes))\n",
    "    plt.xticks(tick_marks, classes, rotation=45)\n",
    "    plt.yticks(tick_marks, classes)\n",
    "    \n",
    "    fmt = '.3f' if normalize else 'd'\n",
    "    thresh = cm.max() / 2.\n",
    "    for i, j in itertools.product(range(cm.shape[0]), range(cm.shape[1])):\n",
    "        plt.text(j, i, format(cm[i, j], fmt),\n",
    "                 horizontalalignment=\"center\",\n",
    "                 color=\"white\" if cm[i, j] > thresh else \"black\")\n",
    "\n",
    "    plt.tight_layout()\n",
    "    plt.ylabel('True class')\n",
    "    plt.xlabel('Predicted class')\n",
    "    plt.tight_layout()\n",
    "    \n",
    "    \n",
    "#plot_confusion_matrix(cm, classes)\n"
   ]
  },
  {
   "cell_type": "markdown",
   "metadata": {},
   "source": [
    "Otwierzanie modelu"
   ]
  },
  {
   "cell_type": "code",
   "execution_count": 189,
   "metadata": {},
   "outputs": [],
   "source": [
    "from tensorflow.keras.models import load_model\n",
    "model = load_model('traffic_classifier.h5')"
   ]
  }
 ],
 "metadata": {
  "interpreter": {
   "hash": "6f7c4d44365b28014734406e4d617c1e1f76ea196def854c7b951a230f6e24f1"
  },
  "kernelspec": {
   "display_name": "Python 3.9.7 64-bit",
   "language": "python",
   "name": "python3"
  },
  "language_info": {
   "codemirror_mode": {
    "name": "ipython",
    "version": 3
   },
   "file_extension": ".py",
   "mimetype": "text/x-python",
   "name": "python",
   "nbconvert_exporter": "python",
   "pygments_lexer": "ipython3",
   "version": "3.9.7"
  },
  "orig_nbformat": 4
 },
 "nbformat": 4,
 "nbformat_minor": 2
}
