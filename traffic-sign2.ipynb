{
 "cells": [
  {
   "cell_type": "markdown",
   "metadata": {},
   "source": [
    "# Super tutuł"
   ]
  },
  {
   "cell_type": "markdown",
   "metadata": {},
   "source": [
    "Import wymaganych bilbiotek, sprawdzenie GPU"
   ]
  },
  {
   "cell_type": "code",
   "execution_count": 40,
   "metadata": {},
   "outputs": [
    {
     "name": "stdout",
     "output_type": "stream",
     "text": [
      "Num GPUs Available:  1\n"
     ]
    }
   ],
   "source": [
    "import tensorflow as tf\n",
    "from tensorflow import keras\n",
    "from tensorflow.keras.models import Sequential\n",
    "from tensorflow.keras.layers import Activation, Dense, BatchNormalization, Conv2D, MaxPool2D, Flatten, Dropout\n",
    "from tensorflow.keras.optimizers import Adam\n",
    "from tensorflow.keras.metrics import categorical_crossentropy\n",
    "from tensorflow.keras.preprocessing.image import ImageDataGenerator\n",
    "import os\n",
    "import matplotlib.pyplot as plt\n",
    "import shutil, random\n",
    "from sklearn.metrics import confusion_matrix\n",
    "import numpy as np\n",
    "import itertools\n",
    "\n",
    "\n",
    "print(\"Num GPUs Available: \", len(tf.config.list_physical_devices('GPU')))"
   ]
  },
  {
   "cell_type": "markdown",
   "metadata": {},
   "source": [
    "Globalne zmienne"
   ]
  },
  {
   "cell_type": "code",
   "execution_count": 41,
   "metadata": {},
   "outputs": [],
   "source": [
    "# Ścieżka z folderem z danymi\n",
    "data_path = os.path.join(os.getcwd(), 'data')\n",
    "train_path = os.path.join(data_path, 'train')\n",
    "test_path = os.path.join(data_path, 'test')\n",
    "valid_path = os.path.join(data_path, 'valid')\n",
    "\n",
    "# rozmiar docelowy zdjęć\n",
    "image_size = 30\n",
    "# jakies grupy TODO\n",
    "batch_size = 32\n",
    "\n",
    "#klasy takie jak nazwy folderów\n",
    "classes = os.listdir(train_path)\n",
    "\n",
    "#ile % zdjęć ma byc przeniesionych do folderu zawierającego zdj walidujące\n",
    "validation_split_dataset = 0.1\n",
    "\n",
    "# Liczba epok\n",
    "epochs = 25"
   ]
  },
  {
   "cell_type": "markdown",
   "metadata": {},
   "source": [
    "Wybranie obrazów walidujących.\n",
    "\n",
    "Rozwiązanie problemu:\n",
    "```python\n",
    "ValueError: `validation_split` is only supported for Tensors or NumPy arrays, found following types in the input: [<class 'tensorflow.python.keras.preprocessing.image.DirectoryIterator'>]\n",
    "```"
   ]
  },
  {
   "cell_type": "code",
   "execution_count": 42,
   "metadata": {},
   "outputs": [],
   "source": [
    "if os.path.isdir(valid_path) is False:\n",
    "    os.makedirs(valid_path)\n",
    "    for class_dir in os.listdir(train_path):\n",
    "        print('=', end='')\n",
    "        src_dir = os.path.join(train_path, class_dir)\n",
    "        dest_dir = os.path.join(valid_path, class_dir)\n",
    "        os.makedirs(dest_dir)        \n",
    "        elementy_w_folderze = os.listdir(src_dir)\n",
    "        ile_elementow = len(elementy_w_folderze) \n",
    "        for i in random.sample(range(0, ile_elementow), int(ile_elementow*validation_split_dataset)):\n",
    "            shutil.move(os.path.join(src_dir, elementy_w_folderze[i]) , dest_dir)\n",
    "        \n",
    "            "
   ]
  },
  {
   "cell_type": "markdown",
   "metadata": {},
   "source": [
    "Wczytywanie obrazów"
   ]
  },
  {
   "cell_type": "code",
   "execution_count": 43,
   "metadata": {},
   "outputs": [
    {
     "name": "stdout",
     "output_type": "stream",
     "text": [
      "Found 15116 images belonging to 92 classes.\n",
      "Found 1630 images belonging to 92 classes.\n",
      "Found 4298 images belonging to 92 classes.\n"
     ]
    }
   ],
   "source": [
    "train_batches = ImageDataGenerator(preprocessing_function=tf.keras.applications.vgg16.preprocess_input) \\\n",
    "    .flow_from_directory(directory=train_path, target_size=(image_size, image_size), classes=classes, batch_size=batch_size)\n",
    "    \n",
    "valid_batches = ImageDataGenerator(preprocessing_function=tf.keras.applications.vgg16.preprocess_input) \\\n",
    "    .flow_from_directory(directory=valid_path, target_size=(image_size, image_size), classes=classes, batch_size=batch_size)\n",
    "    \n",
    "test_batches = ImageDataGenerator(preprocessing_function=tf.keras.applications.vgg16.preprocess_input) \\\n",
    "    .flow_from_directory(directory=test_path, target_size=(image_size, image_size), classes=classes, batch_size=batch_size, shuffle=False)"
   ]
  },
  {
   "cell_type": "markdown",
   "metadata": {},
   "source": [
    "Nwm co to rb"
   ]
  },
  {
   "cell_type": "code",
   "execution_count": 44,
   "metadata": {},
   "outputs": [],
   "source": [
    "imgs, labels = next(train_batches)"
   ]
  },
  {
   "cell_type": "markdown",
   "metadata": {},
   "source": [
    "Pokaż zdjęcia"
   ]
  },
  {
   "cell_type": "code",
   "execution_count": 45,
   "metadata": {},
   "outputs": [
    {
     "name": "stderr",
     "output_type": "stream",
     "text": [
      "Clipping input data to the valid range for imshow with RGB data ([0..1] for floats or [0..255] for integers).\n",
      "Clipping input data to the valid range for imshow with RGB data ([0..1] for floats or [0..255] for integers).\n",
      "Clipping input data to the valid range for imshow with RGB data ([0..1] for floats or [0..255] for integers).\n",
      "Clipping input data to the valid range for imshow with RGB data ([0..1] for floats or [0..255] for integers).\n",
      "Clipping input data to the valid range for imshow with RGB data ([0..1] for floats or [0..255] for integers).\n",
      "Clipping input data to the valid range for imshow with RGB data ([0..1] for floats or [0..255] for integers).\n",
      "Clipping input data to the valid range for imshow with RGB data ([0..1] for floats or [0..255] for integers).\n",
      "Clipping input data to the valid range for imshow with RGB data ([0..1] for floats or [0..255] for integers).\n",
      "Clipping input data to the valid range for imshow with RGB data ([0..1] for floats or [0..255] for integers).\n",
      "Clipping input data to the valid range for imshow with RGB data ([0..1] for floats or [0..255] for integers).\n"
     ]
    },
    {
     "data": {
      "image/png": "[encoded data removed]",
      "text/plain": [
       "<Figure size 1440x1440 with 10 Axes>"
      ]
     },
     "metadata": {
      "needs_background": "light"
     },
     "output_type": "display_data"
    },
    {
     "name": "stdout",
     "output_type": "stream",
     "text": [
      "[[0. 0. 0. ... 0. 0. 0.]\n",
      " [0. 0. 0. ... 0. 0. 0.]\n",
      " [0. 0. 0. ... 0. 0. 0.]\n",
      " ...\n",
      " [0. 0. 0. ... 0. 0. 0.]\n",
      " [0. 0. 0. ... 0. 0. 0.]\n",
      " [0. 0. 0. ... 0. 0. 0.]]\n"
     ]
    }
   ],
   "source": [
    "def plotImages(images_arr):\n",
    "    fig, axes = plt.subplots(1, 10, figsize=(20, 20))\n",
    "    axes = axes.flatten()\n",
    "    for img, ax in zip(images_arr, axes):\n",
    "        ax.imshow(img)\n",
    "        ax.axis('off')\n",
    "    plt.tight_layout()\n",
    "    plt.show()\n",
    "    \n",
    "plotImages(imgs)\n",
    "print(labels)\n",
    "    "
   ]
  },
  {
   "cell_type": "markdown",
   "metadata": {},
   "source": [
    "Budowanie modelu"
   ]
  },
  {
   "cell_type": "code",
   "execution_count": 46,
   "metadata": {},
   "outputs": [
    {
     "name": "stdout",
     "output_type": "stream",
     "text": [
      "Model: \"sequential_3\"\n",
      "_________________________________________________________________\n",
      "Layer (type)                 Output Shape              Param #   \n",
      "=================================================================\n",
      "conv2d_12 (Conv2D)           (None, 26, 26, 32)        2432      \n",
      "_________________________________________________________________\n",
      "conv2d_13 (Conv2D)           (None, 22, 22, 32)        25632     \n",
      "_________________________________________________________________\n",
      "max_pooling2d_6 (MaxPooling2 (None, 11, 11, 32)        0         \n",
      "_________________________________________________________________\n",
      "dropout_9 (Dropout)          (None, 11, 11, 32)        0         \n",
      "_________________________________________________________________\n",
      "conv2d_14 (Conv2D)           (None, 9, 9, 64)          18496     \n",
      "_________________________________________________________________\n",
      "conv2d_15 (Conv2D)           (None, 7, 7, 64)          36928     \n",
      "_________________________________________________________________\n",
      "max_pooling2d_7 (MaxPooling2 (None, 3, 3, 64)          0         \n",
      "_________________________________________________________________\n",
      "dropout_10 (Dropout)         (None, 3, 3, 64)          0         \n",
      "_________________________________________________________________\n",
      "flatten_3 (Flatten)          (None, 576)               0         \n",
      "_________________________________________________________________\n",
      "dense_6 (Dense)              (None, 256)               147712    \n",
      "_________________________________________________________________\n",
      "dropout_11 (Dropout)         (None, 256)               0         \n",
      "_________________________________________________________________\n",
      "dense_7 (Dense)              (None, 92)                23644     \n",
      "=================================================================\n",
      "Total params: 254,844\n",
      "Trainable params: 254,844\n",
      "Non-trainable params: 0\n",
      "_________________________________________________________________\n"
     ]
    }
   ],
   "source": [
    "#Building the model\n",
    "model = Sequential() # sequelntial otrzymuje dane kiedy wywołujemy funkcję celu na niej\n",
    "\n",
    "model.add(Conv2D(filters=32, kernel_size=(5,5), activation='relu', input_shape=(image_size, image_size, 3)))\n",
    "model.add(Conv2D(filters=32, kernel_size=(5,5), activation='relu'))\n",
    "model.add(MaxPool2D(pool_size=(2, 2)))\n",
    "model.add(Dropout(rate=0.25))\n",
    "model.add(Conv2D(filters=64, kernel_size=(3, 3), activation='relu'))\n",
    "model.add(Conv2D(filters=64, kernel_size=(3, 3), activation='relu'))\n",
    "model.add(MaxPool2D(pool_size=(2, 2)))\n",
    "model.add(Dropout(rate=0.25))\n",
    "model.add(Flatten())\n",
    "model.add(Dense(256, activation='relu'))\n",
    "model.add(Dropout(rate=0.5))\n",
    "model.add(Dense(units=len(classes), activation='softmax'))\n",
    "#Compilation of the model\n",
    "model.compile(loss='categorical_crossentropy', optimizer='adam', metrics=['accuracy'])\n",
    "\n",
    "model.summary()"
   ]
  },
  {
   "cell_type": "markdown",
   "metadata": {},
   "source": [
    "Trenowanie"
   ]
  },
  {
   "cell_type": "code",
   "execution_count": 47,
   "metadata": {},
   "outputs": [
    {
     "name": "stdout",
     "output_type": "stream",
     "text": [
      "Epoch 1/25\n",
      "473/473 [==============================] - 14s 27ms/step - loss: 2.3773 - accuracy: 0.5028 - val_loss: 0.7524 - val_accuracy: 0.8135\n",
      "Epoch 2/25\n",
      "473/473 [==============================] - 14s 29ms/step - loss: 0.9419 - accuracy: 0.7620 - val_loss: 0.3770 - val_accuracy: 0.9061\n",
      "Epoch 3/25\n",
      "473/473 [==============================] - 17s 35ms/step - loss: 0.6645 - accuracy: 0.8275 - val_loss: 0.2828 - val_accuracy: 0.9387\n",
      "Epoch 4/25\n",
      "473/473 [==============================] - 16s 34ms/step - loss: 0.5692 - accuracy: 0.8548 - val_loss: 0.2604 - val_accuracy: 0.9411\n",
      "Epoch 5/25\n",
      "473/473 [==============================] - 27s 57ms/step - loss: 0.4644 - accuracy: 0.8806 - val_loss: 0.2065 - val_accuracy: 0.9546\n",
      "Epoch 6/25\n",
      "473/473 [==============================] - 20s 42ms/step - loss: 0.4461 - accuracy: 0.8856 - val_loss: 0.1921 - val_accuracy: 0.9540\n",
      "Epoch 7/25\n",
      "473/473 [==============================] - 18s 39ms/step - loss: 0.4299 - accuracy: 0.8902 - val_loss: 0.2209 - val_accuracy: 0.9491\n",
      "Epoch 8/25\n",
      "473/473 [==============================] - 17s 36ms/step - loss: 0.3971 - accuracy: 0.8997 - val_loss: 0.2006 - val_accuracy: 0.9564\n",
      "Epoch 9/25\n",
      "473/473 [==============================] - 17s 35ms/step - loss: 0.3889 - accuracy: 0.9010 - val_loss: 0.2512 - val_accuracy: 0.9436\n",
      "Epoch 10/25\n",
      "473/473 [==============================] - 16s 34ms/step - loss: 0.4003 - accuracy: 0.9003 - val_loss: 0.2022 - val_accuracy: 0.9558\n",
      "Epoch 11/25\n",
      "473/473 [==============================] - 16s 35ms/step - loss: 0.3737 - accuracy: 0.9040 - val_loss: 0.1800 - val_accuracy: 0.9546\n",
      "Epoch 12/25\n",
      "473/473 [==============================] - 16s 35ms/step - loss: 0.3742 - accuracy: 0.9102 - val_loss: 0.1838 - val_accuracy: 0.9620\n",
      "Epoch 13/25\n",
      "473/473 [==============================] - 16s 35ms/step - loss: 0.4017 - accuracy: 0.9024 - val_loss: 0.2442 - val_accuracy: 0.9460\n",
      "Epoch 14/25\n",
      "473/473 [==============================] - 17s 35ms/step - loss: 0.4159 - accuracy: 0.8965 - val_loss: 0.1991 - val_accuracy: 0.9589\n",
      "Epoch 15/25\n",
      "473/473 [==============================] - 20s 42ms/step - loss: 0.4052 - accuracy: 0.9039 - val_loss: 0.2510 - val_accuracy: 0.9564\n",
      "Epoch 16/25\n",
      "473/473 [==============================] - 16s 35ms/step - loss: 0.3412 - accuracy: 0.9159 - val_loss: 0.1572 - val_accuracy: 0.9626\n",
      "Epoch 17/25\n",
      "473/473 [==============================] - 18s 37ms/step - loss: 0.3779 - accuracy: 0.9084 - val_loss: 0.2021 - val_accuracy: 0.9534\n",
      "Epoch 18/25\n",
      "473/473 [==============================] - 18s 39ms/step - loss: 0.3904 - accuracy: 0.9119 - val_loss: 0.2195 - val_accuracy: 0.9521\n",
      "Epoch 19/25\n",
      "473/473 [==============================] - 17s 35ms/step - loss: 0.3686 - accuracy: 0.9131 - val_loss: 0.1640 - val_accuracy: 0.9583\n",
      "Epoch 20/25\n",
      "473/473 [==============================] - 16s 35ms/step - loss: 0.3864 - accuracy: 0.9111 - val_loss: 0.2089 - val_accuracy: 0.9589\n",
      "Epoch 21/25\n",
      "473/473 [==============================] - 16s 35ms/step - loss: 0.3792 - accuracy: 0.9172 - val_loss: 0.1686 - val_accuracy: 0.9650\n",
      "Epoch 22/25\n",
      "473/473 [==============================] - 16s 35ms/step - loss: 0.3753 - accuracy: 0.9150 - val_loss: 0.1956 - val_accuracy: 0.9589\n",
      "Epoch 23/25\n",
      "473/473 [==============================] - 17s 35ms/step - loss: 0.3901 - accuracy: 0.9110 - val_loss: 0.2681 - val_accuracy: 0.9558\n",
      "Epoch 24/25\n",
      "473/473 [==============================] - 17s 35ms/step - loss: 0.4254 - accuracy: 0.9087 - val_loss: 0.2097 - val_accuracy: 0.9607\n",
      "Epoch 25/25\n",
      "473/473 [==============================] - 17s 35ms/step - loss: 0.3550 - accuracy: 0.9182 - val_loss: 0.2463 - val_accuracy: 0.9497\n"
     ]
    }
   ],
   "source": [
    "anc = model.fit(x=train_batches, batch_size=batch_size, epochs=epochs, validation_data=valid_batches)"
   ]
  },
  {
   "cell_type": "markdown",
   "metadata": {},
   "source": [
    "Zapis modelu do pliku"
   ]
  },
  {
   "cell_type": "code",
   "execution_count": 48,
   "metadata": {},
   "outputs": [],
   "source": [
    "model.save('traffic_classifier.h5')"
   ]
  },
  {
   "cell_type": "markdown",
   "metadata": {},
   "source": [
    "Statystyki wytrenowanego modelu"
   ]
  },
  {
   "cell_type": "code",
   "execution_count": 49,
   "metadata": {},
   "outputs": [
    {
     "data": {
      "image/png": "[encoded data removed]",
      "text/plain": [
       "<Figure size 432x288 with 1 Axes>"
      ]
     },
     "metadata": {
      "needs_background": "light"
     },
     "output_type": "display_data"
    },
    {
     "data": {
      "image/png": "[encoded data removed]",
      "text/plain": [
       "<Figure size 432x288 with 1 Axes>"
      ]
     },
     "metadata": {
      "needs_background": "light"
     },
     "output_type": "display_data"
    }
   ],
   "source": [
    "plt.figure(0)\n",
    "plt.plot(anc.history['accuracy'], label='training accuracy')\n",
    "plt.plot(anc.history['val_accuracy'], label='val accuracy')\n",
    "plt.title('Accuracy')\n",
    "plt.xlabel('epochs')\n",
    "plt.ylabel('accuracy')\n",
    "plt.legend()\n",
    "plt.show()\n",
    "plt.figure(1)\n",
    "plt.plot(anc.history['loss'], label='training loss')\n",
    "plt.plot(anc.history['val_loss'], label='val loss')\n",
    "plt.title('Loss')\n",
    "plt.xlabel('epochs')\n",
    "plt.ylabel('loss')\n",
    "plt.legend()\n",
    "plt.show()"
   ]
  },
  {
   "cell_type": "markdown",
   "metadata": {},
   "source": [
    "Predykcja"
   ]
  },
  {
   "cell_type": "code",
   "execution_count": 50,
   "metadata": {},
   "outputs": [
    {
     "name": "stdout",
     "output_type": "stream",
     "text": [
      "135/135 [==============================] - 5s 39ms/step - loss: 0.4470 - accuracy: 0.9025\n",
      "Test loss: 0.4469594657421112\n",
      "Test accuracy: 0.902512788772583\n"
     ]
    }
   ],
   "source": [
    "score = model.evaluate(test_batches, verbose = 1) \n",
    "\n",
    "print('Test loss:', score[0]) \n",
    "print('Test accuracy:', score[1])"
   ]
  },
  {
   "cell_type": "code",
   "execution_count": 51,
   "metadata": {},
   "outputs": [
    {
     "name": "stderr",
     "output_type": "stream",
     "text": [
      "Clipping input data to the valid range for imshow with RGB data ([0..1] for floats or [0..255] for integers).\n",
      "Clipping input data to the valid range for imshow with RGB data ([0..1] for floats or [0..255] for integers).\n",
      "Clipping input data to the valid range for imshow with RGB data ([0..1] for floats or [0..255] for integers).\n",
      "Clipping input data to the valid range for imshow with RGB data ([0..1] for floats or [0..255] for integers).\n",
      "Clipping input data to the valid range for imshow with RGB data ([0..1] for floats or [0..255] for integers).\n",
      "Clipping input data to the valid range for imshow with RGB data ([0..1] for floats or [0..255] for integers).\n",
      "Clipping input data to the valid range for imshow with RGB data ([0..1] for floats or [0..255] for integers).\n",
      "Clipping input data to the valid range for imshow with RGB data ([0..1] for floats or [0..255] for integers).\n",
      "Clipping input data to the valid range for imshow with RGB data ([0..1] for floats or [0..255] for integers).\n",
      "Clipping input data to the valid range for imshow with RGB data ([0..1] for floats or [0..255] for integers).\n"
     ]
    },
    {
     "data": {
      "image/png": "[encoded data removed]",
      "text/plain": [
       "<Figure size 1440x1440 with 10 Axes>"
      ]
     },
     "metadata": {
      "needs_background": "light"
     },
     "output_type": "display_data"
    },
    {
     "data": {
      "text/plain": [
       "array([ 0,  0,  0, ..., 91, 91, 91])"
      ]
     },
     "execution_count": 51,
     "metadata": {},
     "output_type": "execute_result"
    }
   ],
   "source": [
    "test_imgs, test_labels = next(test_batches)\n",
    "plotImages(test_imgs)\n",
    "#print(test_labels)\n",
    "test_batches.classes"
   ]
  },
  {
   "cell_type": "markdown",
   "metadata": {},
   "source": [
    "Macierz pokazująca na osiach dane tesujące i predykcję\n",
    "\n",
    "Przekątna macierzy wskazuje dopasowanie tj predykcja poprawnie przewiduje"
   ]
  },
  {
   "cell_type": "code",
   "execution_count": 52,
   "metadata": {},
   "outputs": [
    {
     "data": {
      "text/plain": [
       "<matplotlib.image.AxesImage at 0x274a2bada00>"
      ]
     },
     "execution_count": 52,
     "metadata": {},
     "output_type": "execute_result"
    },
    {
     "data": {
      "image/png": "[encoded data removed]",
      "text/plain": [
       "<Figure size 432x288 with 1 Axes>"
      ]
     },
     "metadata": {
      "needs_background": "light"
     },
     "output_type": "display_data"
    }
   ],
   "source": [
    "predictions = model.predict(x=test_batches)\n",
    "np.round(predictions)\n",
    "cm = confusion_matrix(y_true=test_batches.classes, y_pred=predictions.argmax(axis=-1))\n",
    "plt.imshow(cm, cmap='Greys',  interpolation='nearest')\n"
   ]
  },
  {
   "cell_type": "code",
   "execution_count": 53,
   "metadata": {},
   "outputs": [],
   "source": [
    "def plot_confusion_matrix(cm, classes, normalize = False, title='Confusion matrix', cmap = plt.cm.Blues):\n",
    "    classes = range(len(classes))\n",
    "    if normalize:\n",
    "        cm = cm.astype('float') / cm.sum(axis=1)[:, np.newaxis]\n",
    "        cm_title = \"Normalized confusion matrix\"\n",
    "    else:\n",
    "        cm_title = title\n",
    "    print(cm)\n",
    "    \n",
    "    plt.imshow(cm, interpolation='nearest', cmap=cmap)\n",
    "    plt.title(cm_title)\n",
    "    plt.colorbar()\n",
    "    tick_marks = np.arange(len(classes))\n",
    "    plt.xticks(tick_marks, classes, rotation=45)\n",
    "    plt.yticks(tick_marks, classes)\n",
    "    \n",
    "    fmt = '.3f' if normalize else 'd'\n",
    "    thresh = cm.max() / 2.\n",
    "    for i, j in itertools.product(range(cm.shape[0]), range(cm.shape[1])):\n",
    "        plt.text(j, i, format(cm[i, j], fmt),\n",
    "                 horizontalalignment=\"center\",\n",
    "                 color=\"white\" if cm[i, j] > thresh else \"black\")\n",
    "\n",
    "    plt.tight_layout()\n",
    "    plt.ylabel('True class')\n",
    "    plt.xlabel('Predicted class')\n",
    "    plt.tight_layout()\n",
    "    \n",
    "    \n",
    "#plot_confusion_matrix(cm, classes)\n"
   ]
  },
  {
   "cell_type": "markdown",
   "metadata": {},
   "source": [
    "Otwierzanie modelu"
   ]
  },
  {
   "cell_type": "code",
   "execution_count": 54,
   "metadata": {},
   "outputs": [],
   "source": [
    "from tensorflow.keras.models import load_model\n",
    "model = load_model('traffic_classifier.h5')"
   ]
  }
 ],
 "metadata": {
  "interpreter": {
   "hash": "6f7c4d44365b28014734406e4d617c1e1f76ea196def854c7b951a230f6e24f1"
  },
  "kernelspec": {
   "display_name": "Python 3.9.7 64-bit",
   "language": "python",
   "name": "python3"
  },
  "language_info": {
   "codemirror_mode": {
    "name": "ipython",
    "version": 3
   },
   "file_extension": ".py",
   "mimetype": "text/x-python",
   "name": "python",
   "nbconvert_exporter": "python",
   "pygments_lexer": "ipython3",
   "version": "3.9.7"
  },
  "orig_nbformat": 4
 },
 "nbformat": 4,
 "nbformat_minor": 2
}
